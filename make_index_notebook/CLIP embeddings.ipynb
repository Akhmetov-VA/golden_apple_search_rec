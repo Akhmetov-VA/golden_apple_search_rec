{
 "cells": [
  {
   "cell_type": "code",
   "execution_count": 1,
   "metadata": {
    "collapsed": true
   },
   "outputs": [
    {
     "name": "stderr",
     "output_type": "stream",
     "text": [
      "C:\\Users\\HardWorkingStation\\PyProjects\\market_recommendations_lite\\venv\\lib\\site-packages\\huggingface_hub\\file_download.py:594: FutureWarning: `cached_download` is the legacy way to download files from the HF hub, please consider upgrading to `hf_hub_download`\n",
      "  warnings.warn(\n"
     ]
    }
   ],
   "source": [
    "from datetime import datetime\n",
    "\n",
    "import faiss\n",
    "import numpy as np\n",
    "import pandas as pd\n",
    "import ruclip\n",
    "import torch\n",
    "from tqdm import tqdm\n",
    "from transformers import (\n",
    "\tCLIPModel,\n",
    "\tCLIPConfig,\n",
    "\tCLIPTextConfig,\n",
    "\tCLIPVisionConfig,\n",
    "\tCLIPProcessor\n",
    ")\n",
    "\n",
    "# определяем девайс GPU/CPU\n",
    "device = \"cuda\" if torch.cuda.is_available() else \"cpu\"\n",
    "\n",
    "### загрузим ruCLIP\n",
    "ru_clip, ru_clip_processor = ruclip.load('ruclip-vit-base-patch32-384', device=\"cpu\")\n",
    "\n",
    "# tqdm в режим pandas\n",
    "tqdm.pandas()"
   ]
  },
  {
   "cell_type": "code",
   "execution_count": 2,
   "outputs": [
    {
     "data": {
      "text/plain": "'Для подготовки данных будет использоваться: GPU'"
     },
     "execution_count": 2,
     "metadata": {},
     "output_type": "execute_result"
    }
   ],
   "source": [
    "f\"Для подготовки данных будет использоваться: {'GPU' if device == 'cuda' else 'CPU'}\""
   ],
   "metadata": {
    "collapsed": false
   }
  },
  {
   "cell_type": "code",
   "execution_count": 3,
   "outputs": [
    {
     "data": {
      "text/plain": "                        id                        name                  brand  \\\nsku                                                                             \n10015-19000013034   173649       skin illusion velvet                 clarins   \n82400800007          85183                french lover         frederic malle   \n100687-19000043104  193628                     mystery       parisa cosmetics   \n19000021047         176493                 pomegranate             hypno casa   \n90151400003         134630  patchouli & jasmine, lemon      zielinski & rozen   \n19000022654         181733                    агринион       nothing but love   \n82401300007         109880               lipstick rose         frederic malle   \n19000051914         203624      №41 classic collection                  dilis   \n19000032324         186367                      neroli  esteban paris parfums   \n11890-19000043796   212766        pure tights cosmetic                wolford   \n\n                   brand_type       dimension17 dimension18 dimension19  \\\nsku                                                                       \n10015-19000013034    standard    тональный крем     женский         NaN   \n82400800007            middle  парфюмерная вода     мужской         NaN   \n100687-19000043104   standard  палетки для глаз     женский         NaN   \n19000021047          standard         диффузоры     унисекс         NaN   \n90151400003            middle         диффузоры     унисекс         NaN   \n19000022654          standard            кольцо     унисекс         NaN   \n82401300007            middle     гель для душа     женский         NaN   \n19000051914          standard              духи     женский         NaN   \n19000032324          standard        автопарфюм     унисекс         NaN   \n11890-19000043796    standard          колготки     женский         NaN   \n\n                   dimension20   country  price  ...  main_product_sku  \\\nsku                                              ...                     \n10015-19000013034          NaN   франция   3639  ...       19000013034   \n82400800007                NaN   франция   4530  ...       82400800007   \n100687-19000043104         NaN   испания    259  ...       19000043104   \n19000021047                NaN    италия   4680  ...       19000021047   \n90151400003                NaN   израиль   8450  ...       90151400003   \n19000022654                NaN    россия    909  ...       19000022654   \n82401300007                NaN    россия   3940  ...       82401300007   \n19000051914                NaN  беларусь   2076  ...       19000051914   \n19000032324                NaN   франция   1630  ...       19000032324   \n11890-19000043796          NaN    россия   7708  ...       19000058613   \n\n                   main_product_id best_loyalty_price dimension29 dimension28  \\\nsku                                                                             \n10015-19000013034           173648                NaN        True       False   \n82400800007                  85183             4077.0       False       False   \n100687-19000043104          193627                NaN        True       False   \n19000021047                 176493             3510.0       False       False   \n90151400003                 134630                NaN       False       False   \n19000022654                 181733              818.0       False       False   \n82401300007                 109880             3546.0       False       False   \n19000051914                 203624             1868.0       False       False   \n19000032324                 186367             1467.0       False       False   \n11890-19000043796           212768             6937.0       False       False   \n\n                                                          description  \\\nsku                                                                     \n10015-19000013034   тональный крем с легкой текстурой моментально ...   \n82400800007         frederic malle french lover парфюмерная вода м...   \n100687-19000043104  parisa cosmetics mystery палетки для глаз женс...   \n19000021047         аромат распускается нежными нотами апельсина и...   \n90151400003         диффузор средство для ароматизации помещений в...   \n19000022654         nothing but love агринион кольцо унисекс кольц...   \n82401300007         frederic malle lipstick rose гель для душа жен...   \n19000051914         семейство аромата шипровые цветочные начальные...   \n19000032324         теперь вы можете использовать свой любимый аро...   \n11890-19000043796   мягкие колготы с матовым эффектом бесшовная те...   \n\n                                                        product_usage  \\\nsku                                                                     \n10015-19000013034   наносите руками или специальной кистью для тон...   \n82400800007         frederic malle french lover парфюмерная вода м...   \n100687-19000043104  parisa cosmetics mystery палетки для глаз женс...   \n19000021047         предназначен для ароматизации воздуха в помеще...   \n90151400003         открыть ёмкость с ароматическим составом встав...   \n19000022654         nothing but love агринион кольцо унисекс кольц...   \n82401300007         frederic malle lipstick rose гель для душа жен...   \n19000051914         распылять на кожу с расстояния 15см не использ...   \n19000032324         рекомендации по использованию и установке este...   \n11890-19000043796   аккуратно достать изделие из упаковки осторожн...   \n\n                                                  product_composition  \\\nsku                                                                     \n10015-19000013034   я создал clarins из любви и уважения к женской...   \n82400800007         frederic malle french lover парфюмерная вода м...   \n100687-19000043104  parisa cosmetics mystery палетки для глаз женс...   \n19000021047         парфюмерная композиция стекло ротанг картон hy...   \n90151400003         zielinski rozen артизанальный парфюмерный дом ...   \n19000022654         nothing but love агринион кольцо унисекс кольц...   \n82401300007         frederic malle lipstick rose гель для душа жен...   \n19000051914         ароматическая композиция дистиллированная вода...   \n19000032324         керамика пластик картон esteban paris parfums ...   \n11890-19000043796   27 эластан 73 полиамид wolford pure tights cos...   \n\n                          category   category_ru  \nsku                                               \n10015-19000013034         makijazh        макияж  \n82400800007           parfjumerija    парфюмерия  \n100687-19000043104        makijazh        макияж  \n19000021047           parfjumerija    парфюмерия  \n90151400003           parfjumerija    парфюмерия  \n19000022654            ukrashenija     украшения  \n82401300007           parfjumerija    парфюмерия  \n19000051914           parfjumerija    парфюмерия  \n19000032324           parfjumerija    парфюмерия  \n11890-19000043796   nizhnee-bel-jo  нижнее бельё  \n\n[10 rows x 26 columns]",
      "text/html": "<div>\n<style scoped>\n    .dataframe tbody tr th:only-of-type {\n        vertical-align: middle;\n    }\n\n    .dataframe tbody tr th {\n        vertical-align: top;\n    }\n\n    .dataframe thead th {\n        text-align: right;\n    }\n</style>\n<table border=\"1\" class=\"dataframe\">\n  <thead>\n    <tr style=\"text-align: right;\">\n      <th></th>\n      <th>id</th>\n      <th>name</th>\n      <th>brand</th>\n      <th>brand_type</th>\n      <th>dimension17</th>\n      <th>dimension18</th>\n      <th>dimension19</th>\n      <th>dimension20</th>\n      <th>country</th>\n      <th>price</th>\n      <th>...</th>\n      <th>main_product_sku</th>\n      <th>main_product_id</th>\n      <th>best_loyalty_price</th>\n      <th>dimension29</th>\n      <th>dimension28</th>\n      <th>description</th>\n      <th>product_usage</th>\n      <th>product_composition</th>\n      <th>category</th>\n      <th>category_ru</th>\n    </tr>\n    <tr>\n      <th>sku</th>\n      <th></th>\n      <th></th>\n      <th></th>\n      <th></th>\n      <th></th>\n      <th></th>\n      <th></th>\n      <th></th>\n      <th></th>\n      <th></th>\n      <th></th>\n      <th></th>\n      <th></th>\n      <th></th>\n      <th></th>\n      <th></th>\n      <th></th>\n      <th></th>\n      <th></th>\n      <th></th>\n      <th></th>\n    </tr>\n  </thead>\n  <tbody>\n    <tr>\n      <th>10015-19000013034</th>\n      <td>173649</td>\n      <td>skin illusion velvet</td>\n      <td>clarins</td>\n      <td>standard</td>\n      <td>тональный крем</td>\n      <td>женский</td>\n      <td>NaN</td>\n      <td>NaN</td>\n      <td>франция</td>\n      <td>3639</td>\n      <td>...</td>\n      <td>19000013034</td>\n      <td>173648</td>\n      <td>NaN</td>\n      <td>True</td>\n      <td>False</td>\n      <td>тональный крем с легкой текстурой моментально ...</td>\n      <td>наносите руками или специальной кистью для тон...</td>\n      <td>я создал clarins из любви и уважения к женской...</td>\n      <td>makijazh</td>\n      <td>макияж</td>\n    </tr>\n    <tr>\n      <th>82400800007</th>\n      <td>85183</td>\n      <td>french lover</td>\n      <td>frederic malle</td>\n      <td>middle</td>\n      <td>парфюмерная вода</td>\n      <td>мужской</td>\n      <td>NaN</td>\n      <td>NaN</td>\n      <td>франция</td>\n      <td>4530</td>\n      <td>...</td>\n      <td>82400800007</td>\n      <td>85183</td>\n      <td>4077.0</td>\n      <td>False</td>\n      <td>False</td>\n      <td>frederic malle french lover парфюмерная вода м...</td>\n      <td>frederic malle french lover парфюмерная вода м...</td>\n      <td>frederic malle french lover парфюмерная вода м...</td>\n      <td>parfjumerija</td>\n      <td>парфюмерия</td>\n    </tr>\n    <tr>\n      <th>100687-19000043104</th>\n      <td>193628</td>\n      <td>mystery</td>\n      <td>parisa cosmetics</td>\n      <td>standard</td>\n      <td>палетки для глаз</td>\n      <td>женский</td>\n      <td>NaN</td>\n      <td>NaN</td>\n      <td>испания</td>\n      <td>259</td>\n      <td>...</td>\n      <td>19000043104</td>\n      <td>193627</td>\n      <td>NaN</td>\n      <td>True</td>\n      <td>False</td>\n      <td>parisa cosmetics mystery палетки для глаз женс...</td>\n      <td>parisa cosmetics mystery палетки для глаз женс...</td>\n      <td>parisa cosmetics mystery палетки для глаз женс...</td>\n      <td>makijazh</td>\n      <td>макияж</td>\n    </tr>\n    <tr>\n      <th>19000021047</th>\n      <td>176493</td>\n      <td>pomegranate</td>\n      <td>hypno casa</td>\n      <td>standard</td>\n      <td>диффузоры</td>\n      <td>унисекс</td>\n      <td>NaN</td>\n      <td>NaN</td>\n      <td>италия</td>\n      <td>4680</td>\n      <td>...</td>\n      <td>19000021047</td>\n      <td>176493</td>\n      <td>3510.0</td>\n      <td>False</td>\n      <td>False</td>\n      <td>аромат распускается нежными нотами апельсина и...</td>\n      <td>предназначен для ароматизации воздуха в помеще...</td>\n      <td>парфюмерная композиция стекло ротанг картон hy...</td>\n      <td>parfjumerija</td>\n      <td>парфюмерия</td>\n    </tr>\n    <tr>\n      <th>90151400003</th>\n      <td>134630</td>\n      <td>patchouli &amp; jasmine, lemon</td>\n      <td>zielinski &amp; rozen</td>\n      <td>middle</td>\n      <td>диффузоры</td>\n      <td>унисекс</td>\n      <td>NaN</td>\n      <td>NaN</td>\n      <td>израиль</td>\n      <td>8450</td>\n      <td>...</td>\n      <td>90151400003</td>\n      <td>134630</td>\n      <td>NaN</td>\n      <td>False</td>\n      <td>False</td>\n      <td>диффузор средство для ароматизации помещений в...</td>\n      <td>открыть ёмкость с ароматическим составом встав...</td>\n      <td>zielinski rozen артизанальный парфюмерный дом ...</td>\n      <td>parfjumerija</td>\n      <td>парфюмерия</td>\n    </tr>\n    <tr>\n      <th>19000022654</th>\n      <td>181733</td>\n      <td>агринион</td>\n      <td>nothing but love</td>\n      <td>standard</td>\n      <td>кольцо</td>\n      <td>унисекс</td>\n      <td>NaN</td>\n      <td>NaN</td>\n      <td>россия</td>\n      <td>909</td>\n      <td>...</td>\n      <td>19000022654</td>\n      <td>181733</td>\n      <td>818.0</td>\n      <td>False</td>\n      <td>False</td>\n      <td>nothing but love агринион кольцо унисекс кольц...</td>\n      <td>nothing but love агринион кольцо унисекс кольц...</td>\n      <td>nothing but love агринион кольцо унисекс кольц...</td>\n      <td>ukrashenija</td>\n      <td>украшения</td>\n    </tr>\n    <tr>\n      <th>82401300007</th>\n      <td>109880</td>\n      <td>lipstick rose</td>\n      <td>frederic malle</td>\n      <td>middle</td>\n      <td>гель для душа</td>\n      <td>женский</td>\n      <td>NaN</td>\n      <td>NaN</td>\n      <td>россия</td>\n      <td>3940</td>\n      <td>...</td>\n      <td>82401300007</td>\n      <td>109880</td>\n      <td>3546.0</td>\n      <td>False</td>\n      <td>False</td>\n      <td>frederic malle lipstick rose гель для душа жен...</td>\n      <td>frederic malle lipstick rose гель для душа жен...</td>\n      <td>frederic malle lipstick rose гель для душа жен...</td>\n      <td>parfjumerija</td>\n      <td>парфюмерия</td>\n    </tr>\n    <tr>\n      <th>19000051914</th>\n      <td>203624</td>\n      <td>№41 classic collection</td>\n      <td>dilis</td>\n      <td>standard</td>\n      <td>духи</td>\n      <td>женский</td>\n      <td>NaN</td>\n      <td>NaN</td>\n      <td>беларусь</td>\n      <td>2076</td>\n      <td>...</td>\n      <td>19000051914</td>\n      <td>203624</td>\n      <td>1868.0</td>\n      <td>False</td>\n      <td>False</td>\n      <td>семейство аромата шипровые цветочные начальные...</td>\n      <td>распылять на кожу с расстояния 15см не использ...</td>\n      <td>ароматическая композиция дистиллированная вода...</td>\n      <td>parfjumerija</td>\n      <td>парфюмерия</td>\n    </tr>\n    <tr>\n      <th>19000032324</th>\n      <td>186367</td>\n      <td>neroli</td>\n      <td>esteban paris parfums</td>\n      <td>standard</td>\n      <td>автопарфюм</td>\n      <td>унисекс</td>\n      <td>NaN</td>\n      <td>NaN</td>\n      <td>франция</td>\n      <td>1630</td>\n      <td>...</td>\n      <td>19000032324</td>\n      <td>186367</td>\n      <td>1467.0</td>\n      <td>False</td>\n      <td>False</td>\n      <td>теперь вы можете использовать свой любимый аро...</td>\n      <td>рекомендации по использованию и установке este...</td>\n      <td>керамика пластик картон esteban paris parfums ...</td>\n      <td>parfjumerija</td>\n      <td>парфюмерия</td>\n    </tr>\n    <tr>\n      <th>11890-19000043796</th>\n      <td>212766</td>\n      <td>pure tights cosmetic</td>\n      <td>wolford</td>\n      <td>standard</td>\n      <td>колготки</td>\n      <td>женский</td>\n      <td>NaN</td>\n      <td>NaN</td>\n      <td>россия</td>\n      <td>7708</td>\n      <td>...</td>\n      <td>19000058613</td>\n      <td>212768</td>\n      <td>6937.0</td>\n      <td>False</td>\n      <td>False</td>\n      <td>мягкие колготы с матовым эффектом бесшовная те...</td>\n      <td>аккуратно достать изделие из упаковки осторожн...</td>\n      <td>27 эластан 73 полиамид wolford pure tights cos...</td>\n      <td>nizhnee-bel-jo</td>\n      <td>нижнее бельё</td>\n    </tr>\n  </tbody>\n</table>\n<p>10 rows × 26 columns</p>\n</div>"
     },
     "execution_count": 3,
     "metadata": {},
     "output_type": "execute_result"
    }
   ],
   "source": [
    "data = pd.read_csv(\"products.csv\", index_col=\"sku\")\n",
    "# предположим, что не указан только отечественный производитель\n",
    "data[\"country\"] = data[\"country\"].fillna(\"россия\")\n",
    "data.sample(10)"
   ],
   "metadata": {
    "collapsed": false
   }
  },
  {
   "cell_type": "markdown",
   "source": [
    "### Посчитаем эмбеддинги для текстового описания товаров\n",
    "\n",
    "Сформируем столбец с описанием из разных колонок, по которому будем считать эмбеддинги"
   ],
   "metadata": {
    "collapsed": false
   }
  },
  {
   "cell_type": "code",
   "execution_count": 5,
   "outputs": [
    {
     "name": "stderr",
     "output_type": "stream",
     "text": [
      "100%|██████████| 11843/11843 [00:00<00:00, 53103.24it/s]\n"
     ]
    }
   ],
   "source": [
    "def get_full_desc(data_row):\n",
    "\tbrand = data_row[\"brand\"] if data_row[\"brand\"] is not None else \"\"\n",
    "\tcategory_type = data_row[\"category_type\"] if data_row[\"category_type\"] is not None else \"\"\n",
    "\tcountry = data_row[\"country\"] if data_row[\"country\"] is not None else \"\"\n",
    "\tprice = data_row[\"price\"]\n",
    "\tdimension18 = data_row[\"dimension18\"] if data_row[\"dimension18\"] is not None else \"\"\n",
    "\n",
    "\tres = f\"{category_type} {dimension18} {brand} {country} {price}\"\n",
    "\n",
    "\t# ограничиваем длину описания до 2500 символов, чтобы мог отработать CLIP\n",
    "\tif len(res) > 2500:\n",
    "\t\tres = res[:2500]\n",
    "\n",
    "\treturn res\n",
    "\n",
    "data[\"full_desc\"] = data.progress_apply(lambda row: get_full_desc(row), axis=1)"
   ],
   "metadata": {
    "collapsed": false
   }
  },
  {
   "cell_type": "markdown",
   "source": [
    "Посчитаем эмбеддинги из ruCLIP для созданного описания товара"
   ],
   "metadata": {
    "collapsed": false
   }
  },
  {
   "cell_type": "code",
   "execution_count": 6,
   "outputs": [
    {
     "name": "stderr",
     "output_type": "stream",
     "text": [
      "  9%|▉         | 1104/11843 [00:40<06:36, 27.11it/s]\n"
     ]
    },
    {
     "ename": "KeyboardInterrupt",
     "evalue": "",
     "output_type": "error",
     "traceback": [
      "\u001B[1;31m---------------------------------------------------------------------------\u001B[0m",
      "\u001B[1;31mKeyboardInterrupt\u001B[0m                         Traceback (most recent call last)",
      "Cell \u001B[1;32mIn[6], line 6\u001B[0m\n\u001B[0;32m      4\u001B[0m \tline_tokenized \u001B[38;5;241m=\u001B[39m ru_clip_processor(text\u001B[38;5;241m=\u001B[39m[line], return_tensors\u001B[38;5;241m=\u001B[39m\u001B[38;5;124m\"\u001B[39m\u001B[38;5;124mpt\u001B[39m\u001B[38;5;124m\"\u001B[39m, )\n\u001B[0;32m      5\u001B[0m \t\u001B[38;5;28;01mwith\u001B[39;00m torch\u001B[38;5;241m.\u001B[39mno_grad():\n\u001B[1;32m----> 6\u001B[0m \t\tline_embedding \u001B[38;5;241m=\u001B[39m \u001B[43mru_clip\u001B[49m\u001B[38;5;241;43m.\u001B[39;49m\u001B[43mencode_text\u001B[49m\u001B[43m(\u001B[49m\u001B[43mline_tokenized\u001B[49m\u001B[43m[\u001B[49m\u001B[38;5;124;43m\"\u001B[39;49m\u001B[38;5;124;43minput_ids\u001B[39;49m\u001B[38;5;124;43m\"\u001B[39;49m\u001B[43m]\u001B[49m\u001B[43m)\u001B[49m\u001B[38;5;241m.\u001B[39mto(\u001B[38;5;124m\"\u001B[39m\u001B[38;5;124mcpu\u001B[39m\u001B[38;5;124m\"\u001B[39m)\n\u001B[0;32m      7\u001B[0m \ttext_embeddings \u001B[38;5;241m=\u001B[39m pd\u001B[38;5;241m.\u001B[39mconcat([text_embeddings, pd\u001B[38;5;241m.\u001B[39mDataFrame(line_embedding)], ignore_index\u001B[38;5;241m=\u001B[39m\u001B[38;5;28;01mTrue\u001B[39;00m)\n\u001B[0;32m      9\u001B[0m text_embeddings\u001B[38;5;241m.\u001B[39mindex \u001B[38;5;241m=\u001B[39m data\u001B[38;5;241m.\u001B[39mindex\n",
      "File \u001B[1;32m~\\PyProjects\\market_recommendations_lite\\venv\\lib\\site-packages\\ruclip\\model.py:199\u001B[0m, in \u001B[0;36mCLIP.encode_text\u001B[1;34m(self, input_ids)\u001B[0m\n\u001B[0;32m    197\u001B[0m x \u001B[38;5;241m=\u001B[39m x \u001B[38;5;241m+\u001B[39m \u001B[38;5;28mself\u001B[39m\u001B[38;5;241m.\u001B[39mpositional_embedding\u001B[38;5;241m.\u001B[39mtype(\u001B[38;5;28mself\u001B[39m\u001B[38;5;241m.\u001B[39mdtype)\n\u001B[0;32m    198\u001B[0m x \u001B[38;5;241m=\u001B[39m x\u001B[38;5;241m.\u001B[39mpermute(\u001B[38;5;241m1\u001B[39m, \u001B[38;5;241m0\u001B[39m, \u001B[38;5;241m2\u001B[39m)  \u001B[38;5;66;03m# NLD -> LND\u001B[39;00m\n\u001B[1;32m--> 199\u001B[0m x \u001B[38;5;241m=\u001B[39m \u001B[38;5;28;43mself\u001B[39;49m\u001B[38;5;241;43m.\u001B[39;49m\u001B[43mtransformer\u001B[49m\u001B[43m(\u001B[49m\u001B[43mx\u001B[49m\u001B[43m)\u001B[49m\n\u001B[0;32m    200\u001B[0m x \u001B[38;5;241m=\u001B[39m x\u001B[38;5;241m.\u001B[39mpermute(\u001B[38;5;241m1\u001B[39m, \u001B[38;5;241m0\u001B[39m, \u001B[38;5;241m2\u001B[39m)  \u001B[38;5;66;03m# LND -> NLD\u001B[39;00m\n\u001B[0;32m    201\u001B[0m x \u001B[38;5;241m=\u001B[39m \u001B[38;5;28mself\u001B[39m\u001B[38;5;241m.\u001B[39mln_final(x)\u001B[38;5;241m.\u001B[39mtype(\u001B[38;5;28mself\u001B[39m\u001B[38;5;241m.\u001B[39mdtype)\n",
      "File \u001B[1;32m~\\PyProjects\\market_recommendations_lite\\venv\\lib\\site-packages\\torch\\nn\\modules\\module.py:1194\u001B[0m, in \u001B[0;36mModule._call_impl\u001B[1;34m(self, *input, **kwargs)\u001B[0m\n\u001B[0;32m   1190\u001B[0m \u001B[38;5;66;03m# If we don't have any hooks, we want to skip the rest of the logic in\u001B[39;00m\n\u001B[0;32m   1191\u001B[0m \u001B[38;5;66;03m# this function, and just call forward.\u001B[39;00m\n\u001B[0;32m   1192\u001B[0m \u001B[38;5;28;01mif\u001B[39;00m \u001B[38;5;129;01mnot\u001B[39;00m (\u001B[38;5;28mself\u001B[39m\u001B[38;5;241m.\u001B[39m_backward_hooks \u001B[38;5;129;01mor\u001B[39;00m \u001B[38;5;28mself\u001B[39m\u001B[38;5;241m.\u001B[39m_forward_hooks \u001B[38;5;129;01mor\u001B[39;00m \u001B[38;5;28mself\u001B[39m\u001B[38;5;241m.\u001B[39m_forward_pre_hooks \u001B[38;5;129;01mor\u001B[39;00m _global_backward_hooks\n\u001B[0;32m   1193\u001B[0m         \u001B[38;5;129;01mor\u001B[39;00m _global_forward_hooks \u001B[38;5;129;01mor\u001B[39;00m _global_forward_pre_hooks):\n\u001B[1;32m-> 1194\u001B[0m     \u001B[38;5;28;01mreturn\u001B[39;00m forward_call(\u001B[38;5;241m*\u001B[39m\u001B[38;5;28minput\u001B[39m, \u001B[38;5;241m*\u001B[39m\u001B[38;5;241m*\u001B[39mkwargs)\n\u001B[0;32m   1195\u001B[0m \u001B[38;5;66;03m# Do not call functions when jit is used\u001B[39;00m\n\u001B[0;32m   1196\u001B[0m full_backward_hooks, non_full_backward_hooks \u001B[38;5;241m=\u001B[39m [], []\n",
      "File \u001B[1;32m~\\PyProjects\\market_recommendations_lite\\venv\\lib\\site-packages\\ruclip\\model.py:57\u001B[0m, in \u001B[0;36mTransformer.forward\u001B[1;34m(self, x)\u001B[0m\n\u001B[0;32m     56\u001B[0m \u001B[38;5;28;01mdef\u001B[39;00m \u001B[38;5;21mforward\u001B[39m(\u001B[38;5;28mself\u001B[39m, x: torch\u001B[38;5;241m.\u001B[39mTensor):\n\u001B[1;32m---> 57\u001B[0m     \u001B[38;5;28;01mreturn\u001B[39;00m \u001B[38;5;28;43mself\u001B[39;49m\u001B[38;5;241;43m.\u001B[39;49m\u001B[43mresblocks\u001B[49m\u001B[43m(\u001B[49m\u001B[43mx\u001B[49m\u001B[43m)\u001B[49m\n",
      "File \u001B[1;32m~\\PyProjects\\market_recommendations_lite\\venv\\lib\\site-packages\\torch\\nn\\modules\\module.py:1194\u001B[0m, in \u001B[0;36mModule._call_impl\u001B[1;34m(self, *input, **kwargs)\u001B[0m\n\u001B[0;32m   1190\u001B[0m \u001B[38;5;66;03m# If we don't have any hooks, we want to skip the rest of the logic in\u001B[39;00m\n\u001B[0;32m   1191\u001B[0m \u001B[38;5;66;03m# this function, and just call forward.\u001B[39;00m\n\u001B[0;32m   1192\u001B[0m \u001B[38;5;28;01mif\u001B[39;00m \u001B[38;5;129;01mnot\u001B[39;00m (\u001B[38;5;28mself\u001B[39m\u001B[38;5;241m.\u001B[39m_backward_hooks \u001B[38;5;129;01mor\u001B[39;00m \u001B[38;5;28mself\u001B[39m\u001B[38;5;241m.\u001B[39m_forward_hooks \u001B[38;5;129;01mor\u001B[39;00m \u001B[38;5;28mself\u001B[39m\u001B[38;5;241m.\u001B[39m_forward_pre_hooks \u001B[38;5;129;01mor\u001B[39;00m _global_backward_hooks\n\u001B[0;32m   1193\u001B[0m         \u001B[38;5;129;01mor\u001B[39;00m _global_forward_hooks \u001B[38;5;129;01mor\u001B[39;00m _global_forward_pre_hooks):\n\u001B[1;32m-> 1194\u001B[0m     \u001B[38;5;28;01mreturn\u001B[39;00m forward_call(\u001B[38;5;241m*\u001B[39m\u001B[38;5;28minput\u001B[39m, \u001B[38;5;241m*\u001B[39m\u001B[38;5;241m*\u001B[39mkwargs)\n\u001B[0;32m   1195\u001B[0m \u001B[38;5;66;03m# Do not call functions when jit is used\u001B[39;00m\n\u001B[0;32m   1196\u001B[0m full_backward_hooks, non_full_backward_hooks \u001B[38;5;241m=\u001B[39m [], []\n",
      "File \u001B[1;32m~\\PyProjects\\market_recommendations_lite\\venv\\lib\\site-packages\\torch\\nn\\modules\\container.py:204\u001B[0m, in \u001B[0;36mSequential.forward\u001B[1;34m(self, input)\u001B[0m\n\u001B[0;32m    202\u001B[0m \u001B[38;5;28;01mdef\u001B[39;00m \u001B[38;5;21mforward\u001B[39m(\u001B[38;5;28mself\u001B[39m, \u001B[38;5;28minput\u001B[39m):\n\u001B[0;32m    203\u001B[0m     \u001B[38;5;28;01mfor\u001B[39;00m module \u001B[38;5;129;01min\u001B[39;00m \u001B[38;5;28mself\u001B[39m:\n\u001B[1;32m--> 204\u001B[0m         \u001B[38;5;28minput\u001B[39m \u001B[38;5;241m=\u001B[39m \u001B[43mmodule\u001B[49m\u001B[43m(\u001B[49m\u001B[38;5;28;43minput\u001B[39;49m\u001B[43m)\u001B[49m\n\u001B[0;32m    205\u001B[0m     \u001B[38;5;28;01mreturn\u001B[39;00m \u001B[38;5;28minput\u001B[39m\n",
      "File \u001B[1;32m~\\PyProjects\\market_recommendations_lite\\venv\\lib\\site-packages\\torch\\nn\\modules\\module.py:1194\u001B[0m, in \u001B[0;36mModule._call_impl\u001B[1;34m(self, *input, **kwargs)\u001B[0m\n\u001B[0;32m   1190\u001B[0m \u001B[38;5;66;03m# If we don't have any hooks, we want to skip the rest of the logic in\u001B[39;00m\n\u001B[0;32m   1191\u001B[0m \u001B[38;5;66;03m# this function, and just call forward.\u001B[39;00m\n\u001B[0;32m   1192\u001B[0m \u001B[38;5;28;01mif\u001B[39;00m \u001B[38;5;129;01mnot\u001B[39;00m (\u001B[38;5;28mself\u001B[39m\u001B[38;5;241m.\u001B[39m_backward_hooks \u001B[38;5;129;01mor\u001B[39;00m \u001B[38;5;28mself\u001B[39m\u001B[38;5;241m.\u001B[39m_forward_hooks \u001B[38;5;129;01mor\u001B[39;00m \u001B[38;5;28mself\u001B[39m\u001B[38;5;241m.\u001B[39m_forward_pre_hooks \u001B[38;5;129;01mor\u001B[39;00m _global_backward_hooks\n\u001B[0;32m   1193\u001B[0m         \u001B[38;5;129;01mor\u001B[39;00m _global_forward_hooks \u001B[38;5;129;01mor\u001B[39;00m _global_forward_pre_hooks):\n\u001B[1;32m-> 1194\u001B[0m     \u001B[38;5;28;01mreturn\u001B[39;00m forward_call(\u001B[38;5;241m*\u001B[39m\u001B[38;5;28minput\u001B[39m, \u001B[38;5;241m*\u001B[39m\u001B[38;5;241m*\u001B[39mkwargs)\n\u001B[0;32m   1195\u001B[0m \u001B[38;5;66;03m# Do not call functions when jit is used\u001B[39;00m\n\u001B[0;32m   1196\u001B[0m full_backward_hooks, non_full_backward_hooks \u001B[38;5;241m=\u001B[39m [], []\n",
      "File \u001B[1;32m~\\PyProjects\\market_recommendations_lite\\venv\\lib\\site-packages\\ruclip\\model.py:45\u001B[0m, in \u001B[0;36mResidualAttentionBlock.forward\u001B[1;34m(self, x)\u001B[0m\n\u001B[0;32m     43\u001B[0m \u001B[38;5;28;01mdef\u001B[39;00m \u001B[38;5;21mforward\u001B[39m(\u001B[38;5;28mself\u001B[39m, x: torch\u001B[38;5;241m.\u001B[39mTensor):\n\u001B[0;32m     44\u001B[0m     x \u001B[38;5;241m=\u001B[39m x \u001B[38;5;241m+\u001B[39m \u001B[38;5;28mself\u001B[39m\u001B[38;5;241m.\u001B[39mattention(\u001B[38;5;28mself\u001B[39m\u001B[38;5;241m.\u001B[39mln_1(x))\n\u001B[1;32m---> 45\u001B[0m     x \u001B[38;5;241m=\u001B[39m x \u001B[38;5;241m+\u001B[39m \u001B[38;5;28;43mself\u001B[39;49m\u001B[38;5;241;43m.\u001B[39;49m\u001B[43mmlp\u001B[49m\u001B[43m(\u001B[49m\u001B[38;5;28;43mself\u001B[39;49m\u001B[38;5;241;43m.\u001B[39;49m\u001B[43mln_2\u001B[49m\u001B[43m(\u001B[49m\u001B[43mx\u001B[49m\u001B[43m)\u001B[49m\u001B[43m)\u001B[49m\n\u001B[0;32m     46\u001B[0m     \u001B[38;5;28;01mreturn\u001B[39;00m x\n",
      "File \u001B[1;32m~\\PyProjects\\market_recommendations_lite\\venv\\lib\\site-packages\\torch\\nn\\modules\\module.py:1194\u001B[0m, in \u001B[0;36mModule._call_impl\u001B[1;34m(self, *input, **kwargs)\u001B[0m\n\u001B[0;32m   1190\u001B[0m \u001B[38;5;66;03m# If we don't have any hooks, we want to skip the rest of the logic in\u001B[39;00m\n\u001B[0;32m   1191\u001B[0m \u001B[38;5;66;03m# this function, and just call forward.\u001B[39;00m\n\u001B[0;32m   1192\u001B[0m \u001B[38;5;28;01mif\u001B[39;00m \u001B[38;5;129;01mnot\u001B[39;00m (\u001B[38;5;28mself\u001B[39m\u001B[38;5;241m.\u001B[39m_backward_hooks \u001B[38;5;129;01mor\u001B[39;00m \u001B[38;5;28mself\u001B[39m\u001B[38;5;241m.\u001B[39m_forward_hooks \u001B[38;5;129;01mor\u001B[39;00m \u001B[38;5;28mself\u001B[39m\u001B[38;5;241m.\u001B[39m_forward_pre_hooks \u001B[38;5;129;01mor\u001B[39;00m _global_backward_hooks\n\u001B[0;32m   1193\u001B[0m         \u001B[38;5;129;01mor\u001B[39;00m _global_forward_hooks \u001B[38;5;129;01mor\u001B[39;00m _global_forward_pre_hooks):\n\u001B[1;32m-> 1194\u001B[0m     \u001B[38;5;28;01mreturn\u001B[39;00m forward_call(\u001B[38;5;241m*\u001B[39m\u001B[38;5;28minput\u001B[39m, \u001B[38;5;241m*\u001B[39m\u001B[38;5;241m*\u001B[39mkwargs)\n\u001B[0;32m   1195\u001B[0m \u001B[38;5;66;03m# Do not call functions when jit is used\u001B[39;00m\n\u001B[0;32m   1196\u001B[0m full_backward_hooks, non_full_backward_hooks \u001B[38;5;241m=\u001B[39m [], []\n",
      "File \u001B[1;32m~\\PyProjects\\market_recommendations_lite\\venv\\lib\\site-packages\\torch\\nn\\modules\\container.py:204\u001B[0m, in \u001B[0;36mSequential.forward\u001B[1;34m(self, input)\u001B[0m\n\u001B[0;32m    202\u001B[0m \u001B[38;5;28;01mdef\u001B[39;00m \u001B[38;5;21mforward\u001B[39m(\u001B[38;5;28mself\u001B[39m, \u001B[38;5;28minput\u001B[39m):\n\u001B[0;32m    203\u001B[0m     \u001B[38;5;28;01mfor\u001B[39;00m module \u001B[38;5;129;01min\u001B[39;00m \u001B[38;5;28mself\u001B[39m:\n\u001B[1;32m--> 204\u001B[0m         \u001B[38;5;28minput\u001B[39m \u001B[38;5;241m=\u001B[39m \u001B[43mmodule\u001B[49m\u001B[43m(\u001B[49m\u001B[38;5;28;43minput\u001B[39;49m\u001B[43m)\u001B[49m\n\u001B[0;32m    205\u001B[0m     \u001B[38;5;28;01mreturn\u001B[39;00m \u001B[38;5;28minput\u001B[39m\n",
      "File \u001B[1;32m~\\PyProjects\\market_recommendations_lite\\venv\\lib\\site-packages\\torch\\nn\\modules\\module.py:1194\u001B[0m, in \u001B[0;36mModule._call_impl\u001B[1;34m(self, *input, **kwargs)\u001B[0m\n\u001B[0;32m   1190\u001B[0m \u001B[38;5;66;03m# If we don't have any hooks, we want to skip the rest of the logic in\u001B[39;00m\n\u001B[0;32m   1191\u001B[0m \u001B[38;5;66;03m# this function, and just call forward.\u001B[39;00m\n\u001B[0;32m   1192\u001B[0m \u001B[38;5;28;01mif\u001B[39;00m \u001B[38;5;129;01mnot\u001B[39;00m (\u001B[38;5;28mself\u001B[39m\u001B[38;5;241m.\u001B[39m_backward_hooks \u001B[38;5;129;01mor\u001B[39;00m \u001B[38;5;28mself\u001B[39m\u001B[38;5;241m.\u001B[39m_forward_hooks \u001B[38;5;129;01mor\u001B[39;00m \u001B[38;5;28mself\u001B[39m\u001B[38;5;241m.\u001B[39m_forward_pre_hooks \u001B[38;5;129;01mor\u001B[39;00m _global_backward_hooks\n\u001B[0;32m   1193\u001B[0m         \u001B[38;5;129;01mor\u001B[39;00m _global_forward_hooks \u001B[38;5;129;01mor\u001B[39;00m _global_forward_pre_hooks):\n\u001B[1;32m-> 1194\u001B[0m     \u001B[38;5;28;01mreturn\u001B[39;00m forward_call(\u001B[38;5;241m*\u001B[39m\u001B[38;5;28minput\u001B[39m, \u001B[38;5;241m*\u001B[39m\u001B[38;5;241m*\u001B[39mkwargs)\n\u001B[0;32m   1195\u001B[0m \u001B[38;5;66;03m# Do not call functions when jit is used\u001B[39;00m\n\u001B[0;32m   1196\u001B[0m full_backward_hooks, non_full_backward_hooks \u001B[38;5;241m=\u001B[39m [], []\n",
      "File \u001B[1;32m~\\PyProjects\\market_recommendations_lite\\venv\\lib\\site-packages\\torch\\nn\\modules\\linear.py:114\u001B[0m, in \u001B[0;36mLinear.forward\u001B[1;34m(self, input)\u001B[0m\n\u001B[0;32m    113\u001B[0m \u001B[38;5;28;01mdef\u001B[39;00m \u001B[38;5;21mforward\u001B[39m(\u001B[38;5;28mself\u001B[39m, \u001B[38;5;28minput\u001B[39m: Tensor) \u001B[38;5;241m-\u001B[39m\u001B[38;5;241m>\u001B[39m Tensor:\n\u001B[1;32m--> 114\u001B[0m     \u001B[38;5;28;01mreturn\u001B[39;00m \u001B[43mF\u001B[49m\u001B[38;5;241;43m.\u001B[39;49m\u001B[43mlinear\u001B[49m\u001B[43m(\u001B[49m\u001B[38;5;28;43minput\u001B[39;49m\u001B[43m,\u001B[49m\u001B[43m \u001B[49m\u001B[38;5;28;43mself\u001B[39;49m\u001B[38;5;241;43m.\u001B[39;49m\u001B[43mweight\u001B[49m\u001B[43m,\u001B[49m\u001B[43m \u001B[49m\u001B[38;5;28;43mself\u001B[39;49m\u001B[38;5;241;43m.\u001B[39;49m\u001B[43mbias\u001B[49m\u001B[43m)\u001B[49m\n",
      "\u001B[1;31mKeyboardInterrupt\u001B[0m: "
     ]
    }
   ],
   "source": [
    "text_embeddings = pd.DataFrame()\n",
    "\n",
    "for line in tqdm(data[\"full_desc\"]):\n",
    "\tline_tokenized = ru_clip_processor(text=[line], return_tensors=\"pt\", )\n",
    "\twith torch.no_grad():\n",
    "\t\tline_embedding = ru_clip.encode_text(line_tokenized[\"input_ids\"]).to(\"cpu\")\n",
    "\ttext_embeddings = pd.concat([text_embeddings, pd.DataFrame(line_embedding)], ignore_index=True)\n",
    "\n",
    "text_embeddings.index = data.index"
   ],
   "metadata": {
    "collapsed": false
   }
  },
  {
   "cell_type": "markdown",
   "source": [
    "Сохраним полученные эмбеддинги для текстового описания товаров"
   ],
   "metadata": {
    "collapsed": false
   }
  },
  {
   "cell_type": "code",
   "execution_count": 210,
   "outputs": [],
   "source": [
    "text_embeddings.to_csv(\"text_ruCLIP_embeddings_2023-01-25 3-00.csv\")"
   ],
   "metadata": {
    "collapsed": false
   }
  },
  {
   "cell_type": "markdown",
   "source": [
    "Создадим FAISS index по полученным текстовым эмбеддингам и сохраним его"
   ],
   "metadata": {
    "collapsed": false
   }
  },
  {
   "cell_type": "code",
   "execution_count": 211,
   "outputs": [
    {
     "name": "stdout",
     "output_type": "stream",
     "text": [
      "11843\n"
     ]
    }
   ],
   "source": [
    "index = faiss.IndexFlatL2(text_embeddings.shape[1])\n",
    "index.add(np.ascontiguousarray(text_embeddings.to_numpy().astype('float32')))\n",
    "print(index.ntotal)  # теперь в нем n векторов\n",
    "faiss.write_index(index, \"text_ruCLIP_faiss.index\")"
   ],
   "metadata": {
    "collapsed": false
   }
  },
  {
   "cell_type": "markdown",
   "source": [
    "Потестируем рекомендации по полученному индексу"
   ],
   "metadata": {
    "collapsed": false
   }
  },
  {
   "cell_type": "code",
   "execution_count": 75,
   "outputs": [
    {
     "data": {
      "text/plain": "                               brand dimension18 dimension19  country  price  \\\nsku                                                                            \n19000042189               deep pink      унисекс         NaN   россия    159   \n19000034710                 sel rose     унисекс         NaN   россия    120   \n19000034711                 sel rose   для детей         NaN   россия    132   \n19000051046                  marespa     унисекс         NaN   россия    321   \n19000021550        zielinski & rozen     унисекс         NaN  израиль   2880   \n11975-19000021552  zielinski & rozen     унисекс         NaN  израиль   2880   \n19000021549        zielinski & rozen     унисекс         NaN  израиль   2880   \n19000021554        zielinski & rozen     унисекс         NaN  израиль   2070   \n19000021553        zielinski & rozen     унисекс         NaN  израиль   2070   \n19000048595                  savonry     унисекс         NaN   россия    171   \n\n                                    category_type  \nsku                                                \n19000042189        морская розовая соль для ванн   \n19000034710                крымская соль для ванн  \n19000034711                 морская соль для ванн  \n19000051046            морская соль красного моря  \n19000021550                        соль для ванны  \n11975-19000021552                  соль для ванны  \n19000021549                        соль для ванны  \n19000021554                        соль для ванны  \n19000021553                        соль для ванны  \n19000048595                         пена для ванн  ",
      "text/html": "<div>\n<style scoped>\n    .dataframe tbody tr th:only-of-type {\n        vertical-align: middle;\n    }\n\n    .dataframe tbody tr th {\n        vertical-align: top;\n    }\n\n    .dataframe thead th {\n        text-align: right;\n    }\n</style>\n<table border=\"1\" class=\"dataframe\">\n  <thead>\n    <tr style=\"text-align: right;\">\n      <th></th>\n      <th>brand</th>\n      <th>dimension18</th>\n      <th>dimension19</th>\n      <th>country</th>\n      <th>price</th>\n      <th>category_type</th>\n    </tr>\n    <tr>\n      <th>sku</th>\n      <th></th>\n      <th></th>\n      <th></th>\n      <th></th>\n      <th></th>\n      <th></th>\n    </tr>\n  </thead>\n  <tbody>\n    <tr>\n      <th>19000042189</th>\n      <td>deep pink</td>\n      <td>унисекс</td>\n      <td>NaN</td>\n      <td>россия</td>\n      <td>159</td>\n      <td>морская розовая соль для ванн</td>\n    </tr>\n    <tr>\n      <th>19000034710</th>\n      <td>sel rose</td>\n      <td>унисекс</td>\n      <td>NaN</td>\n      <td>россия</td>\n      <td>120</td>\n      <td>крымская соль для ванн</td>\n    </tr>\n    <tr>\n      <th>19000034711</th>\n      <td>sel rose</td>\n      <td>для детей</td>\n      <td>NaN</td>\n      <td>россия</td>\n      <td>132</td>\n      <td>морская соль для ванн</td>\n    </tr>\n    <tr>\n      <th>19000051046</th>\n      <td>marespa</td>\n      <td>унисекс</td>\n      <td>NaN</td>\n      <td>россия</td>\n      <td>321</td>\n      <td>морская соль красного моря</td>\n    </tr>\n    <tr>\n      <th>19000021550</th>\n      <td>zielinski &amp; rozen</td>\n      <td>унисекс</td>\n      <td>NaN</td>\n      <td>израиль</td>\n      <td>2880</td>\n      <td>соль для ванны</td>\n    </tr>\n    <tr>\n      <th>11975-19000021552</th>\n      <td>zielinski &amp; rozen</td>\n      <td>унисекс</td>\n      <td>NaN</td>\n      <td>израиль</td>\n      <td>2880</td>\n      <td>соль для ванны</td>\n    </tr>\n    <tr>\n      <th>19000021549</th>\n      <td>zielinski &amp; rozen</td>\n      <td>унисекс</td>\n      <td>NaN</td>\n      <td>израиль</td>\n      <td>2880</td>\n      <td>соль для ванны</td>\n    </tr>\n    <tr>\n      <th>19000021554</th>\n      <td>zielinski &amp; rozen</td>\n      <td>унисекс</td>\n      <td>NaN</td>\n      <td>израиль</td>\n      <td>2070</td>\n      <td>соль для ванны</td>\n    </tr>\n    <tr>\n      <th>19000021553</th>\n      <td>zielinski &amp; rozen</td>\n      <td>унисекс</td>\n      <td>NaN</td>\n      <td>израиль</td>\n      <td>2070</td>\n      <td>соль для ванны</td>\n    </tr>\n    <tr>\n      <th>19000048595</th>\n      <td>savonry</td>\n      <td>унисекс</td>\n      <td>NaN</td>\n      <td>россия</td>\n      <td>171</td>\n      <td>пена для ванн</td>\n    </tr>\n  </tbody>\n</table>\n</div>"
     },
     "execution_count": 75,
     "metadata": {},
     "output_type": "execute_result"
    }
   ],
   "source": [
    "topn = 10\n",
    "product_index_in_data = 2390\n",
    "distances, same_embedding_indexes = index.search(np.ascontiguousarray(text_embeddings.to_numpy().astype('float32')[product_index_in_data].reshape((1, -1))), 10)\n",
    "data.iloc[same_embedding_indexes[0]][[\"brand\", \"dimension18\", \"dimension19\", \"country\", \"price\" , \"category_type\"]]"
   ],
   "metadata": {
    "collapsed": false
   }
  }
 ],
 "metadata": {
  "kernelspec": {
   "display_name": "Python 3",
   "language": "python",
   "name": "python3"
  },
  "language_info": {
   "codemirror_mode": {
    "name": "ipython",
    "version": 2
   },
   "file_extension": ".py",
   "mimetype": "text/x-python",
   "name": "python",
   "nbconvert_exporter": "python",
   "pygments_lexer": "ipython2",
   "version": "2.7.6"
  }
 },
 "nbformat": 4,
 "nbformat_minor": 0
}
